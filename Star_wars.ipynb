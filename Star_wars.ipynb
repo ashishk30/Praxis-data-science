{
  "nbformat": 4,
  "nbformat_minor": 0,
  "metadata": {
    "colab": {
      "name": "Star wars",
      "provenance": [],
      "collapsed_sections": [],
      "authorship_tag": "ABX9TyNqd5e+I/Dg/YwU5mNgOhOR",
      "include_colab_link": true
    },
    "kernelspec": {
      "name": "python3",
      "display_name": "Python 3"
    },
    "language_info": {
      "name": "python"
    },
    "widgets": {
      "application/vnd.jupyter.widget-state+json": {
        "bcb681b84a8843c3be45a3e3d6de1cac": {
          "model_module": "@jupyter-widgets/controls",
          "model_name": "FileUploadModel",
          "model_module_version": "1.5.0",
          "state": {
            "_view_name": "FileUploadView",
            "_counter": 1,
            "style": "IPY_MODEL_fc7b2ea37c0b46cd8c8385fc5027d238",
            "_dom_classes": [],
            "description": "Upload",
            "multiple": false,
            "_model_name": "FileUploadModel",
            "data": [
              null
            ],
            "button_style": "",
            "_view_module": "@jupyter-widgets/controls",
            "_model_module_version": "1.5.0",
            "accept": "*.csv",
            "_view_count": null,
            "disabled": false,
            "_view_module_version": "1.5.0",
            "error": "",
            "description_tooltip": null,
            "metadata": [
              {
                "name": "Space Wars.csv",
                "type": "application/vnd.ms-excel",
                "size": 630669,
                "lastModified": 1635257274483
              }
            ],
            "_model_module": "@jupyter-widgets/controls",
            "layout": "IPY_MODEL_74e31881e5ac424688bec16c075f3af4",
            "icon": "upload"
          }
        },
        "fc7b2ea37c0b46cd8c8385fc5027d238": {
          "model_module": "@jupyter-widgets/controls",
          "model_name": "ButtonStyleModel",
          "model_module_version": "1.5.0",
          "state": {
            "_view_name": "StyleView",
            "_model_name": "ButtonStyleModel",
            "_view_module": "@jupyter-widgets/base",
            "_model_module_version": "1.5.0",
            "_view_count": null,
            "button_color": null,
            "font_weight": "",
            "_view_module_version": "1.2.0",
            "_model_module": "@jupyter-widgets/controls"
          }
        },
        "74e31881e5ac424688bec16c075f3af4": {
          "model_module": "@jupyter-widgets/base",
          "model_name": "LayoutModel",
          "model_module_version": "1.2.0",
          "state": {
            "_view_name": "LayoutView",
            "grid_template_rows": null,
            "right": null,
            "justify_content": null,
            "_view_module": "@jupyter-widgets/base",
            "overflow": null,
            "_model_module_version": "1.2.0",
            "_view_count": null,
            "flex_flow": null,
            "width": null,
            "min_width": null,
            "border": null,
            "align_items": null,
            "bottom": null,
            "_model_module": "@jupyter-widgets/base",
            "top": null,
            "grid_column": null,
            "overflow_y": null,
            "overflow_x": null,
            "grid_auto_flow": null,
            "grid_area": null,
            "grid_template_columns": null,
            "flex": null,
            "_model_name": "LayoutModel",
            "justify_items": null,
            "grid_row": null,
            "max_height": null,
            "align_content": null,
            "visibility": null,
            "align_self": null,
            "height": null,
            "min_height": null,
            "padding": null,
            "grid_auto_rows": null,
            "grid_gap": null,
            "max_width": null,
            "order": null,
            "_view_module_version": "1.2.0",
            "grid_template_areas": null,
            "object_position": null,
            "object_fit": null,
            "grid_auto_columns": null,
            "margin": null,
            "display": null,
            "left": null
          }
        }
      }
    }
  },
  "cells": [
    {
      "cell_type": "markdown",
      "metadata": {
        "id": "view-in-github",
        "colab_type": "text"
      },
      "source": [
        "<a href=\"https://colab.research.google.com/github/ashishk30/Praxis-data-science/blob/main/Star_wars.ipynb\" target=\"_parent\"><img src=\"https://colab.research.google.com/assets/colab-badge.svg\" alt=\"Open In Colab\"/></a>"
      ]
    },
    {
      "cell_type": "markdown",
      "metadata": {
        "id": "xQdfUOeJFQMM"
      },
      "source": [
        "**Ashish Sachin Kulkarni TEMEA143 Domain:- DataScience**"
      ]
    },
    {
      "cell_type": "markdown",
      "metadata": {
        "id": "cSGmhgWaFdd0"
      },
      "source": [
        "Import the required libraries"
      ]
    },
    {
      "cell_type": "code",
      "metadata": {
        "id": "K20y8lpGhMtx"
      },
      "source": [
        "import numpy as np                                                              ###Import all the libraries required for data analysis\n",
        "import pandas as pd\n",
        "import seaborn as sns\n",
        "import matplotlib.pyplot as plt"
      ],
      "execution_count": 60,
      "outputs": []
    },
    {
      "cell_type": "markdown",
      "metadata": {
        "id": "qjyjCC4oFsoL"
      },
      "source": [
        "Use the ipywidgets to import the file from the system for data analysis."
      ]
    },
    {
      "cell_type": "code",
      "metadata": {
        "colab": {
          "base_uri": "https://localhost:8080/",
          "height": 49,
          "referenced_widgets": [
            "bcb681b84a8843c3be45a3e3d6de1cac",
            "fc7b2ea37c0b46cd8c8385fc5027d238",
            "74e31881e5ac424688bec16c075f3af4"
          ]
        },
        "id": "jE4WANRMiFZk",
        "outputId": "3ab2171b-7e9b-4491-ff01-c642c75f05a6"
      },
      "source": [
        "import ipywidgets as widgets                                                    ###Using the ipywidgets to import the given excel file from the dataset.\n",
        "widgets.IntSlider()                                                             ###This will allow us to import any file from our device and analyze any given dataset.\n",
        "from IPython.display import display\n",
        "w = widgets.IntSlider()\n",
        "uploader = widgets.FileUpload(\n",
        "    accept='*.csv',  \n",
        "    multiple=False)\n",
        "display(uploader)"
      ],
      "execution_count": 61,
      "outputs": [
        {
          "output_type": "display_data",
          "data": {
            "application/vnd.jupyter.widget-view+json": {
              "model_id": "bcb681b84a8843c3be45a3e3d6de1cac",
              "version_minor": 0,
              "version_major": 2
            },
            "text/plain": [
              "FileUpload(value={}, accept='*.csv', description='Upload')"
            ]
          },
          "metadata": {}
        }
      ]
    },
    {
      "cell_type": "code",
      "metadata": {
        "id": "8JkPiwGCvtze"
      },
      "source": [
        "import io                                                                       ###Import io module use this method to save time and fast accessibility.\n",
        "import pandas as pd\n",
        "input_file = list(uploader.value.values())[0]\n",
        "content = input_file['content']\n",
        "content = io.StringIO(content.decode('utf-8'))\n",
        "df = pd.read_csv(content)"
      ],
      "execution_count": 62,
      "outputs": []
    },
    {
      "cell_type": "code",
      "metadata": {
        "colab": {
          "base_uri": "https://localhost:8080/",
          "height": 203
        },
        "id": "E_3_JQIozVjA",
        "outputId": "943d624a-e17e-4e3e-f839-7e76a4cf6fda"
      },
      "source": [
        "df.head()                                                                       ###Print first 5 rows to check whether correct has been uploaded and analysed or not."
      ],
      "execution_count": 63,
      "outputs": [
        {
          "output_type": "execute_result",
          "data": {
            "text/html": [
              "<div>\n",
              "<style scoped>\n",
              "    .dataframe tbody tr th:only-of-type {\n",
              "        vertical-align: middle;\n",
              "    }\n",
              "\n",
              "    .dataframe tbody tr th {\n",
              "        vertical-align: top;\n",
              "    }\n",
              "\n",
              "    .dataframe thead th {\n",
              "        text-align: right;\n",
              "    }\n",
              "</style>\n",
              "<table border=\"1\" class=\"dataframe\">\n",
              "  <thead>\n",
              "    <tr style=\"text-align: right;\">\n",
              "      <th></th>\n",
              "      <th>Sr. No</th>\n",
              "      <th>Unnamed: 0</th>\n",
              "      <th>Company Name</th>\n",
              "      <th>Location</th>\n",
              "      <th>Datum</th>\n",
              "      <th>Detail</th>\n",
              "      <th>Status Rocket</th>\n",
              "      <th>Rocket</th>\n",
              "      <th>Status Mission</th>\n",
              "    </tr>\n",
              "  </thead>\n",
              "  <tbody>\n",
              "    <tr>\n",
              "      <th>0</th>\n",
              "      <td>0</td>\n",
              "      <td>0</td>\n",
              "      <td>SpaceX</td>\n",
              "      <td>LC-39A, Kennedy Space Center, Florida, USA</td>\n",
              "      <td>Fri Aug 07, 2020 05:12 UTC</td>\n",
              "      <td>Falcon 9 Block 5 | Starlink V1 L9 &amp; BlackSky</td>\n",
              "      <td>StatusActive</td>\n",
              "      <td>50</td>\n",
              "      <td>Success</td>\n",
              "    </tr>\n",
              "    <tr>\n",
              "      <th>1</th>\n",
              "      <td>1</td>\n",
              "      <td>1</td>\n",
              "      <td>CASC</td>\n",
              "      <td>Site 9401 (SLS-2), Jiuquan Satellite Launch Ce...</td>\n",
              "      <td>Thu Aug 06, 2020 04:01 UTC</td>\n",
              "      <td>Long March 2D | Gaofen-9 04 &amp; Q-SAT</td>\n",
              "      <td>StatusActive</td>\n",
              "      <td>29.75</td>\n",
              "      <td>Success</td>\n",
              "    </tr>\n",
              "    <tr>\n",
              "      <th>2</th>\n",
              "      <td>2</td>\n",
              "      <td>2</td>\n",
              "      <td>SpaceX</td>\n",
              "      <td>Pad A, Boca Chica, Texas, USA</td>\n",
              "      <td>Tue Aug 04, 2020 23:57 UTC</td>\n",
              "      <td>Starship Prototype | 150 Meter Hop</td>\n",
              "      <td>StatusActive</td>\n",
              "      <td>NaN</td>\n",
              "      <td>Success</td>\n",
              "    </tr>\n",
              "    <tr>\n",
              "      <th>3</th>\n",
              "      <td>3</td>\n",
              "      <td>3</td>\n",
              "      <td>Roscosmos</td>\n",
              "      <td>Site 200/39, Baikonur Cosmodrome, Kazakhstan</td>\n",
              "      <td>Thu Jul 30, 2020 21:25 UTC</td>\n",
              "      <td>Proton-M/Briz-M | Ekspress-80 &amp; Ekspress-103</td>\n",
              "      <td>StatusActive</td>\n",
              "      <td>65</td>\n",
              "      <td>Success</td>\n",
              "    </tr>\n",
              "    <tr>\n",
              "      <th>4</th>\n",
              "      <td>4</td>\n",
              "      <td>4</td>\n",
              "      <td>ULA</td>\n",
              "      <td>SLC-41, Cape Canaveral AFS, Florida, USA</td>\n",
              "      <td>Thu Jul 30, 2020 11:50 UTC</td>\n",
              "      <td>Atlas V 541 | Perseverance</td>\n",
              "      <td>StatusActive</td>\n",
              "      <td>145</td>\n",
              "      <td>Success</td>\n",
              "    </tr>\n",
              "  </tbody>\n",
              "</table>\n",
              "</div>"
            ],
            "text/plain": [
              "   Sr. No  Unnamed: 0 Company Name  ... Status Rocket  Rocket Status Mission\n",
              "0       0           0       SpaceX  ...  StatusActive      50        Success\n",
              "1       1           1         CASC  ...  StatusActive   29.75        Success\n",
              "2       2           2       SpaceX  ...  StatusActive     NaN        Success\n",
              "3       3           3    Roscosmos  ...  StatusActive      65        Success\n",
              "4       4           4          ULA  ...  StatusActive     145        Success\n",
              "\n",
              "[5 rows x 9 columns]"
            ]
          },
          "metadata": {},
          "execution_count": 63
        }
      ]
    },
    {
      "cell_type": "code",
      "metadata": {
        "colab": {
          "base_uri": "https://localhost:8080/"
        },
        "id": "95zU0WhezawR",
        "outputId": "32c39f59-6d88-4ffe-ad18-38f9a87a1f0a"
      },
      "source": [
        "df.shape                                                                        ###Check the number of rows and columns the given file has."
      ],
      "execution_count": 64,
      "outputs": [
        {
          "output_type": "execute_result",
          "data": {
            "text/plain": [
              "(4324, 9)"
            ]
          },
          "metadata": {},
          "execution_count": 64
        }
      ]
    },
    {
      "cell_type": "code",
      "metadata": {
        "colab": {
          "base_uri": "https://localhost:8080/"
        },
        "id": "-auZIUGLzdHw",
        "outputId": "adc74c19-1dbe-444b-d079-d4dfa40d8b06"
      },
      "source": [
        "df.info()                                                                       ###Get the info regarding the type of our data no of non null values."
      ],
      "execution_count": 65,
      "outputs": [
        {
          "output_type": "stream",
          "name": "stdout",
          "text": [
            "<class 'pandas.core.frame.DataFrame'>\n",
            "RangeIndex: 4324 entries, 0 to 4323\n",
            "Data columns (total 9 columns):\n",
            " #   Column          Non-Null Count  Dtype \n",
            "---  ------          --------------  ----- \n",
            " 0   Sr. No          4324 non-null   int64 \n",
            " 1   Unnamed: 0      4324 non-null   int64 \n",
            " 2   Company Name    4324 non-null   object\n",
            " 3   Location        4324 non-null   object\n",
            " 4   Datum           4324 non-null   object\n",
            " 5   Detail          4324 non-null   object\n",
            " 6   Status Rocket   4324 non-null   object\n",
            " 7    Rocket         964 non-null    object\n",
            " 8   Status Mission  4324 non-null   object\n",
            "dtypes: int64(2), object(7)\n",
            "memory usage: 304.2+ KB\n"
          ]
        }
      ]
    },
    {
      "cell_type": "code",
      "metadata": {
        "colab": {
          "base_uri": "https://localhost:8080/"
        },
        "id": "35kq-SZr7Lei",
        "outputId": "06379a52-789a-44a5-cc13-8ddb3e2c813a"
      },
      "source": [
        "df.isnull().sum()                                                               ###This will return the number of null values in a column."
      ],
      "execution_count": 66,
      "outputs": [
        {
          "output_type": "execute_result",
          "data": {
            "text/plain": [
              "Sr. No               0\n",
              "Unnamed: 0           0\n",
              "Company Name         0\n",
              "Location             0\n",
              "Datum                0\n",
              "Detail               0\n",
              "Status Rocket        0\n",
              " Rocket           3360\n",
              "Status Mission       0\n",
              "dtype: int64"
            ]
          },
          "metadata": {},
          "execution_count": 66
        }
      ]
    },
    {
      "cell_type": "code",
      "metadata": {
        "id": "kmildNlG7ouY"
      },
      "source": [
        "df =df.dropna()                                                                 ###Used to drop the missing values (along with the entire row)."
      ],
      "execution_count": 67,
      "outputs": []
    },
    {
      "cell_type": "code",
      "metadata": {
        "colab": {
          "base_uri": "https://localhost:8080/"
        },
        "id": "c4GMR0RU99hT",
        "outputId": "a06abc1f-47c4-486e-8037-58987f10dbb3"
      },
      "source": [
        "df.info()                                                                       ###Check if the values hav been updated or not."
      ],
      "execution_count": 68,
      "outputs": [
        {
          "output_type": "stream",
          "name": "stdout",
          "text": [
            "<class 'pandas.core.frame.DataFrame'>\n",
            "Int64Index: 964 entries, 0 to 4020\n",
            "Data columns (total 9 columns):\n",
            " #   Column          Non-Null Count  Dtype \n",
            "---  ------          --------------  ----- \n",
            " 0   Sr. No          964 non-null    int64 \n",
            " 1   Unnamed: 0      964 non-null    int64 \n",
            " 2   Company Name    964 non-null    object\n",
            " 3   Location        964 non-null    object\n",
            " 4   Datum           964 non-null    object\n",
            " 5   Detail          964 non-null    object\n",
            " 6   Status Rocket   964 non-null    object\n",
            " 7    Rocket         964 non-null    object\n",
            " 8   Status Mission  964 non-null    object\n",
            "dtypes: int64(2), object(7)\n",
            "memory usage: 75.3+ KB\n"
          ]
        }
      ]
    },
    {
      "cell_type": "code",
      "metadata": {
        "colab": {
          "base_uri": "https://localhost:8080/"
        },
        "id": "UzNHxv4u2Hkx",
        "outputId": "2b1daf1f-34d1-4347-f31a-8022f7c488ca"
      },
      "source": [
        "df.shape                                                                        ###Confirm The new shape."
      ],
      "execution_count": 69,
      "outputs": [
        {
          "output_type": "execute_result",
          "data": {
            "text/plain": [
              "(964, 9)"
            ]
          },
          "metadata": {},
          "execution_count": 69
        }
      ]
    },
    {
      "cell_type": "code",
      "metadata": {
        "colab": {
          "base_uri": "https://localhost:8080/",
          "height": 270
        },
        "id": "iqM3Fb9l9_fn",
        "outputId": "3000310b-7c73-4fed-a980-e613decb4a03"
      },
      "source": [
        "df.head()                                                                       ###This will be our new dataset for analysis."
      ],
      "execution_count": 70,
      "outputs": [
        {
          "output_type": "execute_result",
          "data": {
            "text/html": [
              "<div>\n",
              "<style scoped>\n",
              "    .dataframe tbody tr th:only-of-type {\n",
              "        vertical-align: middle;\n",
              "    }\n",
              "\n",
              "    .dataframe tbody tr th {\n",
              "        vertical-align: top;\n",
              "    }\n",
              "\n",
              "    .dataframe thead th {\n",
              "        text-align: right;\n",
              "    }\n",
              "</style>\n",
              "<table border=\"1\" class=\"dataframe\">\n",
              "  <thead>\n",
              "    <tr style=\"text-align: right;\">\n",
              "      <th></th>\n",
              "      <th>Sr. No</th>\n",
              "      <th>Unnamed: 0</th>\n",
              "      <th>Company Name</th>\n",
              "      <th>Location</th>\n",
              "      <th>Datum</th>\n",
              "      <th>Detail</th>\n",
              "      <th>Status Rocket</th>\n",
              "      <th>Rocket</th>\n",
              "      <th>Status Mission</th>\n",
              "    </tr>\n",
              "  </thead>\n",
              "  <tbody>\n",
              "    <tr>\n",
              "      <th>0</th>\n",
              "      <td>0</td>\n",
              "      <td>0</td>\n",
              "      <td>SpaceX</td>\n",
              "      <td>LC-39A, Kennedy Space Center, Florida, USA</td>\n",
              "      <td>Fri Aug 07, 2020 05:12 UTC</td>\n",
              "      <td>Falcon 9 Block 5 | Starlink V1 L9 &amp; BlackSky</td>\n",
              "      <td>StatusActive</td>\n",
              "      <td>50</td>\n",
              "      <td>Success</td>\n",
              "    </tr>\n",
              "    <tr>\n",
              "      <th>1</th>\n",
              "      <td>1</td>\n",
              "      <td>1</td>\n",
              "      <td>CASC</td>\n",
              "      <td>Site 9401 (SLS-2), Jiuquan Satellite Launch Ce...</td>\n",
              "      <td>Thu Aug 06, 2020 04:01 UTC</td>\n",
              "      <td>Long March 2D | Gaofen-9 04 &amp; Q-SAT</td>\n",
              "      <td>StatusActive</td>\n",
              "      <td>29.75</td>\n",
              "      <td>Success</td>\n",
              "    </tr>\n",
              "    <tr>\n",
              "      <th>3</th>\n",
              "      <td>3</td>\n",
              "      <td>3</td>\n",
              "      <td>Roscosmos</td>\n",
              "      <td>Site 200/39, Baikonur Cosmodrome, Kazakhstan</td>\n",
              "      <td>Thu Jul 30, 2020 21:25 UTC</td>\n",
              "      <td>Proton-M/Briz-M | Ekspress-80 &amp; Ekspress-103</td>\n",
              "      <td>StatusActive</td>\n",
              "      <td>65</td>\n",
              "      <td>Success</td>\n",
              "    </tr>\n",
              "    <tr>\n",
              "      <th>4</th>\n",
              "      <td>4</td>\n",
              "      <td>4</td>\n",
              "      <td>ULA</td>\n",
              "      <td>SLC-41, Cape Canaveral AFS, Florida, USA</td>\n",
              "      <td>Thu Jul 30, 2020 11:50 UTC</td>\n",
              "      <td>Atlas V 541 | Perseverance</td>\n",
              "      <td>StatusActive</td>\n",
              "      <td>145</td>\n",
              "      <td>Success</td>\n",
              "    </tr>\n",
              "    <tr>\n",
              "      <th>5</th>\n",
              "      <td>5</td>\n",
              "      <td>5</td>\n",
              "      <td>CASC</td>\n",
              "      <td>LC-9, Taiyuan Satellite Launch Center, China</td>\n",
              "      <td>Sat Jul 25, 2020 03:13 UTC</td>\n",
              "      <td>Long March 4B | Ziyuan-3 03, Apocalypse-10 &amp; N...</td>\n",
              "      <td>StatusActive</td>\n",
              "      <td>64.68</td>\n",
              "      <td>Success</td>\n",
              "    </tr>\n",
              "  </tbody>\n",
              "</table>\n",
              "</div>"
            ],
            "text/plain": [
              "   Sr. No  Unnamed: 0 Company Name  ... Status Rocket  Rocket Status Mission\n",
              "0       0           0       SpaceX  ...  StatusActive      50        Success\n",
              "1       1           1         CASC  ...  StatusActive   29.75        Success\n",
              "3       3           3    Roscosmos  ...  StatusActive      65        Success\n",
              "4       4           4          ULA  ...  StatusActive     145        Success\n",
              "5       5           5         CASC  ...  StatusActive   64.68        Success\n",
              "\n",
              "[5 rows x 9 columns]"
            ]
          },
          "metadata": {},
          "execution_count": 70
        }
      ]
    },
    {
      "cell_type": "markdown",
      "metadata": {
        "id": "A9V1IorSKHI8"
      },
      "source": [
        "We will do analysis from here.\n",
        "First is Company Name and total number of launches till date. \n",
        "The Company Name and the total number will be displayed as an output."
      ]
    },
    {
      "cell_type": "code",
      "metadata": {
        "colab": {
          "base_uri": "https://localhost:8080/"
        },
        "id": "5Vr_Z03-2YHe",
        "outputId": "f89b34b9-bd35-43b1-dda4-337d299d4dac"
      },
      "source": [
        "temp = pd.DataFrame({\"Company Name and Total Number of Launches as of now. \":df['Company Name']})                        ###Create a temp dataframe which will comprise of Company Name and then count the values.\n",
        "count_launches = temp.value_counts()\n",
        "print(count_launches)                                                           "
      ],
      "execution_count": 72,
      "outputs": [
        {
          "output_type": "stream",
          "name": "stdout",
          "text": [
            "Company Name and Total Number of Launches as of now. \n",
            "CASC                                                     158\n",
            "NASA                                                     149\n",
            "SpaceX                                                    99\n",
            "ULA                                                       98\n",
            "Arianespace                                               96\n",
            "Northrop                                                  83\n",
            "ISRO                                                      67\n",
            "MHI                                                       37\n",
            "VKS RF                                                    33\n",
            "US Air Force                                              26\n",
            "Roscosmos                                                 23\n",
            "Kosmotras                                                 22\n",
            "Rocket Lab                                                13\n",
            "ILS                                                       13\n",
            "Eurockot                                                  13\n",
            "Martin Marietta                                            9\n",
            "Lockheed                                                   8\n",
            "Boeing                                                     7\n",
            "JAXA                                                       3\n",
            "RVSN USSR                                                  2\n",
            "EER                                                        1\n",
            "Sandia                                                     1\n",
            "ESA                                                        1\n",
            "ExPace                                                     1\n",
            "Virgin Orbit                                               1\n",
            "dtype: int64\n"
          ]
        }
      ]
    },
    {
      "cell_type": "code",
      "metadata": {
        "colab": {
          "base_uri": "https://localhost:8080/",
          "height": 485
        },
        "id": "yJ__mdCx5aaf",
        "outputId": "96d59108-0b1d-4c5b-e7f3-1ddcc4db1e96"
      },
      "source": [
        "labels = [X[0] for X in count_launches.keys()]                                  ###We will now represent it in the form of a chart.\n",
        "\n",
        "sizes = count_launches\n",
        "labels = labels\n",
        " \n",
        "fig1, ax1 = plt.subplots(figsize=(30, 10))                                      ###Adjust the figure size according to our requirements.\n",
        "fig1.subplots_adjust(0.3, 0, 1, 1)\n",
        " \n",
        "theme = plt.get_cmap('jet')                                                     ###Theme has been selected for better visualization.\n",
        "ax1.set_prop_cycle(\"color\", [theme(1. * i / len(sizes))\n",
        "                             for i in range(len(sizes))]) \n",
        "total = sum(sizes)\n",
        "patches, texts = plt.pie(sizes, startangle=90)\n",
        "plt.title(\"Pie Chart of Company wise launches analysis\",fontsize=30)\n",
        "plt.legend(patches, labels, loc=\"best\", prop={'size': 15})\n",
        "plt.axis('equal')\n",
        "plt.tight_layout()\n",
        "plt.show()                                                                      ###A pie chart has been generated."
      ],
      "execution_count": 77,
      "outputs": [
        {
          "output_type": "display_data",
          "data": {
            "image/png": "[encoded data removed]",
            "text/plain": [
              "<Figure size 2160x720 with 1 Axes>"
            ]
          },
          "metadata": {}
        }
      ]
    },
    {
      "cell_type": "markdown",
      "metadata": {
        "id": "eCTTJF4LMtq3"
      },
      "source": [
        "Now in the next step we will analyse Successful launches done(Company Wise).\n",
        "We will display the coompany name and the no of times the launch was successful.\n"
      ]
    },
    {
      "cell_type": "code",
      "metadata": {
        "colab": {
          "base_uri": "https://localhost:8080/"
        },
        "id": "KFmgtngE7upG",
        "outputId": "7cddf66e-f1f3-4793-f463-556c02912c28"
      },
      "source": [
        "successful = pd.DataFrame({\"Successful Launches Count By Each Company\":df['Company Name'][df['Status Mission']=='Success']})        ###Create another temp dataframe and store the required values\n",
        "suc_launches = successful.value_counts()\n",
        "print(suc_launches)"
      ],
      "execution_count": 79,
      "outputs": [
        {
          "output_type": "stream",
          "name": "stdout",
          "text": [
            "Successful Launches Count By Each Company\n",
            "CASC                                         152\n",
            "NASA                                         146\n",
            "ULA                                           97\n",
            "Arianespace                                   93\n",
            "SpaceX                                        93\n",
            "Northrop                                      74\n",
            "ISRO                                          59\n",
            "MHI                                           37\n",
            "VKS RF                                        30\n",
            "US Air Force                                  23\n",
            "Roscosmos                                     22\n",
            "Kosmotras                                     21\n",
            "ILS                                           13\n",
            "Eurockot                                      12\n",
            "Rocket Lab                                    11\n",
            "Lockheed                                       8\n",
            "Martin Marietta                                7\n",
            "Boeing                                         6\n",
            "JAXA                                           3\n",
            "RVSN USSR                                      2\n",
            "ESA                                            1\n",
            "dtype: int64\n"
          ]
        }
      ]
    },
    {
      "cell_type": "code",
      "metadata": {
        "colab": {
          "base_uri": "https://localhost:8080/",
          "height": 460
        },
        "id": "7W-u2wFa54V9",
        "outputId": "4ad52434-5c8b-42d4-acac-30dd592ac5c7"
      },
      "source": [
        "sns.countplot(df['Company Name'][df['Status Mission']=='Success'], data=df)     ###Now represent the given data in the form of barplot.\n",
        "plt.title(\"Successful launches by a company:\", fontsize = 20)\n",
        "plt.xticks(rotation = 90,fontsize=15)                                           ###Rotate the x axis values in 90 degrees for btter visuals.\n",
        "plt.show()"
      ],
      "execution_count": 81,
      "outputs": [
        {
          "output_type": "stream",
          "name": "stderr",
          "text": [
            "/usr/local/lib/python3.7/dist-packages/seaborn/_decorators.py:43: FutureWarning: Pass the following variable as a keyword arg: x. From version 0.12, the only valid positional argument will be `data`, and passing other arguments without an explicit keyword will result in an error or misinterpretation.\n",
            "  FutureWarning\n"
          ]
        },
        {
          "output_type": "display_data",
          "data": {
            "image/png": "[encoded data removed]",
            "text/plain": [
              "<Figure size 432x288 with 1 Axes>"
            ]
          },
          "metadata": {
            "needs_background": "light"
          }
        }
      ]
    },
    {
      "cell_type": "markdown",
      "metadata": {
        "id": "4rZyfcISh5IF"
      },
      "source": [
        "Now we will try to represent the set of Rockets launched by each Company.\n"
      ]
    },
    {
      "cell_type": "code",
      "metadata": {
        "colab": {
          "base_uri": "https://localhost:8080/",
          "height": 781
        },
        "id": "7brozbgbet-O",
        "outputId": "50411211-1304-4053-fa8f-b46adb4ca661"
      },
      "source": [
        "fig, ax = plt.subplots(figsize=(12, 12))                                        ###We will use a scatter plot for this purpose for clear relation and better visuals.\n",
        "ax.scatter(x = df['Company Name'], y = df[' Rocket'])\n",
        "plt.xlabel(\"Company Name\")\n",
        "plt.ylabel(\"Rocket\")\n",
        "plt.xticks(rotation=90)\n",
        "\n",
        "plt.show()"
      ],
      "execution_count": 82,
      "outputs": [
        {
          "output_type": "display_data",
          "data": {
            "image/png": "[encoded data removed]",
            "text/plain": [
              "<Figure size 864x864 with 1 Axes>"
            ]
          },
          "metadata": {
            "needs_background": "light"
          }
        }
      ]
    },
    {
      "cell_type": "markdown",
      "metadata": {
        "id": "0SpQEPTY3u8P"
      },
      "source": [
        "Now analysis of Status of Rocket launced and Company."
      ]
    },
    {
      "cell_type": "code",
      "metadata": {
        "id": "vsLGKip6fZ3D"
      },
      "source": [
        "status = df['Company Name'].unique()                                            ###We will see how many rocts are active and how many are retired.\n",
        "status_returned = pd.DataFrame([],columns=['Company Name:','Status:','No of times:'])       ###Create a blank dataframe which will contain company name status and no of times.\n",
        "for id, element in enumerate(status):\n",
        "  temp_active = df[(df['Company Name']== element) & (df['Status Rocket']== 'StatusActive')]\n",
        "  temp_inactive = df[(df['Company Name']== element) & (df['Status Rocket']== 'StatusRetired')]\n",
        "\n",
        "  #append to status_returned\n",
        "  status_returned = status_returned.append({'Company Name:':element,\n",
        "                                            'Status:':'StatusActive','No of times:':temp_active['Company Name'].count()},ignore_index= True)\n",
        "  status_returned = status_returned.append({'Company Name:' :element,'Status:':'StatusRetired','No of times:':temp_inactive['Company Name'].count()},ignore_index= True)\n"
      ],
      "execution_count": 83,
      "outputs": []
    },
    {
      "cell_type": "code",
      "metadata": {
        "colab": {
          "base_uri": "https://localhost:8080/",
          "height": 1000
        },
        "id": "Iikt7E4T2pBJ",
        "outputId": "d0db81a1-f24e-47e2-f307-0cc53b97ce9b"
      },
      "source": [
        "status_returned"
      ],
      "execution_count": 84,
      "outputs": [
        {
          "output_type": "execute_result",
          "data": {
            "text/html": [
              "<div>\n",
              "<style scoped>\n",
              "    .dataframe tbody tr th:only-of-type {\n",
              "        vertical-align: middle;\n",
              "    }\n",
              "\n",
              "    .dataframe tbody tr th {\n",
              "        vertical-align: top;\n",
              "    }\n",
              "\n",
              "    .dataframe thead th {\n",
              "        text-align: right;\n",
              "    }\n",
              "</style>\n",
              "<table border=\"1\" class=\"dataframe\">\n",
              "  <thead>\n",
              "    <tr style=\"text-align: right;\">\n",
              "      <th></th>\n",
              "      <th>Company Name:</th>\n",
              "      <th>Status:</th>\n",
              "      <th>No of times:</th>\n",
              "    </tr>\n",
              "  </thead>\n",
              "  <tbody>\n",
              "    <tr>\n",
              "      <th>0</th>\n",
              "      <td>SpaceX</td>\n",
              "      <td>StatusActive</td>\n",
              "      <td>37</td>\n",
              "    </tr>\n",
              "    <tr>\n",
              "      <th>1</th>\n",
              "      <td>SpaceX</td>\n",
              "      <td>StatusRetired</td>\n",
              "      <td>62</td>\n",
              "    </tr>\n",
              "    <tr>\n",
              "      <th>2</th>\n",
              "      <td>CASC</td>\n",
              "      <td>StatusActive</td>\n",
              "      <td>158</td>\n",
              "    </tr>\n",
              "    <tr>\n",
              "      <th>3</th>\n",
              "      <td>CASC</td>\n",
              "      <td>StatusRetired</td>\n",
              "      <td>0</td>\n",
              "    </tr>\n",
              "    <tr>\n",
              "      <th>4</th>\n",
              "      <td>Roscosmos</td>\n",
              "      <td>StatusActive</td>\n",
              "      <td>23</td>\n",
              "    </tr>\n",
              "    <tr>\n",
              "      <th>5</th>\n",
              "      <td>Roscosmos</td>\n",
              "      <td>StatusRetired</td>\n",
              "      <td>0</td>\n",
              "    </tr>\n",
              "    <tr>\n",
              "      <th>6</th>\n",
              "      <td>ULA</td>\n",
              "      <td>StatusActive</td>\n",
              "      <td>86</td>\n",
              "    </tr>\n",
              "    <tr>\n",
              "      <th>7</th>\n",
              "      <td>ULA</td>\n",
              "      <td>StatusRetired</td>\n",
              "      <td>12</td>\n",
              "    </tr>\n",
              "    <tr>\n",
              "      <th>8</th>\n",
              "      <td>JAXA</td>\n",
              "      <td>StatusActive</td>\n",
              "      <td>3</td>\n",
              "    </tr>\n",
              "    <tr>\n",
              "      <th>9</th>\n",
              "      <td>JAXA</td>\n",
              "      <td>StatusRetired</td>\n",
              "      <td>0</td>\n",
              "    </tr>\n",
              "    <tr>\n",
              "      <th>10</th>\n",
              "      <td>Northrop</td>\n",
              "      <td>StatusActive</td>\n",
              "      <td>63</td>\n",
              "    </tr>\n",
              "    <tr>\n",
              "      <th>11</th>\n",
              "      <td>Northrop</td>\n",
              "      <td>StatusRetired</td>\n",
              "      <td>20</td>\n",
              "    </tr>\n",
              "    <tr>\n",
              "      <th>12</th>\n",
              "      <td>ExPace</td>\n",
              "      <td>StatusActive</td>\n",
              "      <td>1</td>\n",
              "    </tr>\n",
              "    <tr>\n",
              "      <th>13</th>\n",
              "      <td>ExPace</td>\n",
              "      <td>StatusRetired</td>\n",
              "      <td>0</td>\n",
              "    </tr>\n",
              "    <tr>\n",
              "      <th>14</th>\n",
              "      <td>Rocket Lab</td>\n",
              "      <td>StatusActive</td>\n",
              "      <td>13</td>\n",
              "    </tr>\n",
              "    <tr>\n",
              "      <th>15</th>\n",
              "      <td>Rocket Lab</td>\n",
              "      <td>StatusRetired</td>\n",
              "      <td>0</td>\n",
              "    </tr>\n",
              "    <tr>\n",
              "      <th>16</th>\n",
              "      <td>Virgin Orbit</td>\n",
              "      <td>StatusActive</td>\n",
              "      <td>1</td>\n",
              "    </tr>\n",
              "    <tr>\n",
              "      <th>17</th>\n",
              "      <td>Virgin Orbit</td>\n",
              "      <td>StatusRetired</td>\n",
              "      <td>0</td>\n",
              "    </tr>\n",
              "    <tr>\n",
              "      <th>18</th>\n",
              "      <td>MHI</td>\n",
              "      <td>StatusActive</td>\n",
              "      <td>28</td>\n",
              "    </tr>\n",
              "    <tr>\n",
              "      <th>19</th>\n",
              "      <td>MHI</td>\n",
              "      <td>StatusRetired</td>\n",
              "      <td>9</td>\n",
              "    </tr>\n",
              "    <tr>\n",
              "      <th>20</th>\n",
              "      <td>Arianespace</td>\n",
              "      <td>StatusActive</td>\n",
              "      <td>93</td>\n",
              "    </tr>\n",
              "    <tr>\n",
              "      <th>21</th>\n",
              "      <td>Arianespace</td>\n",
              "      <td>StatusRetired</td>\n",
              "      <td>3</td>\n",
              "    </tr>\n",
              "    <tr>\n",
              "      <th>22</th>\n",
              "      <td>VKS RF</td>\n",
              "      <td>StatusActive</td>\n",
              "      <td>15</td>\n",
              "    </tr>\n",
              "    <tr>\n",
              "      <th>23</th>\n",
              "      <td>VKS RF</td>\n",
              "      <td>StatusRetired</td>\n",
              "      <td>18</td>\n",
              "    </tr>\n",
              "    <tr>\n",
              "      <th>24</th>\n",
              "      <td>ISRO</td>\n",
              "      <td>StatusActive</td>\n",
              "      <td>49</td>\n",
              "    </tr>\n",
              "    <tr>\n",
              "      <th>25</th>\n",
              "      <td>ISRO</td>\n",
              "      <td>StatusRetired</td>\n",
              "      <td>18</td>\n",
              "    </tr>\n",
              "    <tr>\n",
              "      <th>26</th>\n",
              "      <td>ILS</td>\n",
              "      <td>StatusActive</td>\n",
              "      <td>13</td>\n",
              "    </tr>\n",
              "    <tr>\n",
              "      <th>27</th>\n",
              "      <td>ILS</td>\n",
              "      <td>StatusRetired</td>\n",
              "      <td>0</td>\n",
              "    </tr>\n",
              "    <tr>\n",
              "      <th>28</th>\n",
              "      <td>Eurockot</td>\n",
              "      <td>StatusActive</td>\n",
              "      <td>0</td>\n",
              "    </tr>\n",
              "    <tr>\n",
              "      <th>29</th>\n",
              "      <td>Eurockot</td>\n",
              "      <td>StatusRetired</td>\n",
              "      <td>13</td>\n",
              "    </tr>\n",
              "    <tr>\n",
              "      <th>30</th>\n",
              "      <td>Sandia</td>\n",
              "      <td>StatusActive</td>\n",
              "      <td>1</td>\n",
              "    </tr>\n",
              "    <tr>\n",
              "      <th>31</th>\n",
              "      <td>Sandia</td>\n",
              "      <td>StatusRetired</td>\n",
              "      <td>0</td>\n",
              "    </tr>\n",
              "    <tr>\n",
              "      <th>32</th>\n",
              "      <td>Kosmotras</td>\n",
              "      <td>StatusActive</td>\n",
              "      <td>0</td>\n",
              "    </tr>\n",
              "    <tr>\n",
              "      <th>33</th>\n",
              "      <td>Kosmotras</td>\n",
              "      <td>StatusRetired</td>\n",
              "      <td>22</td>\n",
              "    </tr>\n",
              "    <tr>\n",
              "      <th>34</th>\n",
              "      <td>ESA</td>\n",
              "      <td>StatusActive</td>\n",
              "      <td>1</td>\n",
              "    </tr>\n",
              "    <tr>\n",
              "      <th>35</th>\n",
              "      <td>ESA</td>\n",
              "      <td>StatusRetired</td>\n",
              "      <td>0</td>\n",
              "    </tr>\n",
              "    <tr>\n",
              "      <th>36</th>\n",
              "      <td>NASA</td>\n",
              "      <td>StatusActive</td>\n",
              "      <td>0</td>\n",
              "    </tr>\n",
              "    <tr>\n",
              "      <th>37</th>\n",
              "      <td>NASA</td>\n",
              "      <td>StatusRetired</td>\n",
              "      <td>149</td>\n",
              "    </tr>\n",
              "    <tr>\n",
              "      <th>38</th>\n",
              "      <td>Boeing</td>\n",
              "      <td>StatusActive</td>\n",
              "      <td>1</td>\n",
              "    </tr>\n",
              "    <tr>\n",
              "      <th>39</th>\n",
              "      <td>Boeing</td>\n",
              "      <td>StatusRetired</td>\n",
              "      <td>6</td>\n",
              "    </tr>\n",
              "    <tr>\n",
              "      <th>40</th>\n",
              "      <td>Lockheed</td>\n",
              "      <td>StatusActive</td>\n",
              "      <td>0</td>\n",
              "    </tr>\n",
              "    <tr>\n",
              "      <th>41</th>\n",
              "      <td>Lockheed</td>\n",
              "      <td>StatusRetired</td>\n",
              "      <td>8</td>\n",
              "    </tr>\n",
              "    <tr>\n",
              "      <th>42</th>\n",
              "      <td>EER</td>\n",
              "      <td>StatusActive</td>\n",
              "      <td>0</td>\n",
              "    </tr>\n",
              "    <tr>\n",
              "      <th>43</th>\n",
              "      <td>EER</td>\n",
              "      <td>StatusRetired</td>\n",
              "      <td>1</td>\n",
              "    </tr>\n",
              "    <tr>\n",
              "      <th>44</th>\n",
              "      <td>Martin Marietta</td>\n",
              "      <td>StatusActive</td>\n",
              "      <td>0</td>\n",
              "    </tr>\n",
              "    <tr>\n",
              "      <th>45</th>\n",
              "      <td>Martin Marietta</td>\n",
              "      <td>StatusRetired</td>\n",
              "      <td>9</td>\n",
              "    </tr>\n",
              "    <tr>\n",
              "      <th>46</th>\n",
              "      <td>RVSN USSR</td>\n",
              "      <td>StatusActive</td>\n",
              "      <td>0</td>\n",
              "    </tr>\n",
              "    <tr>\n",
              "      <th>47</th>\n",
              "      <td>RVSN USSR</td>\n",
              "      <td>StatusRetired</td>\n",
              "      <td>2</td>\n",
              "    </tr>\n",
              "    <tr>\n",
              "      <th>48</th>\n",
              "      <td>US Air Force</td>\n",
              "      <td>StatusActive</td>\n",
              "      <td>0</td>\n",
              "    </tr>\n",
              "    <tr>\n",
              "      <th>49</th>\n",
              "      <td>US Air Force</td>\n",
              "      <td>StatusRetired</td>\n",
              "      <td>26</td>\n",
              "    </tr>\n",
              "  </tbody>\n",
              "</table>\n",
              "</div>"
            ],
            "text/plain": [
              "      Company Name:        Status: No of times:\n",
              "0            SpaceX   StatusActive           37\n",
              "1            SpaceX  StatusRetired           62\n",
              "2              CASC   StatusActive          158\n",
              "3              CASC  StatusRetired            0\n",
              "4         Roscosmos   StatusActive           23\n",
              "5         Roscosmos  StatusRetired            0\n",
              "6               ULA   StatusActive           86\n",
              "7               ULA  StatusRetired           12\n",
              "8              JAXA   StatusActive            3\n",
              "9              JAXA  StatusRetired            0\n",
              "10         Northrop   StatusActive           63\n",
              "11         Northrop  StatusRetired           20\n",
              "12           ExPace   StatusActive            1\n",
              "13           ExPace  StatusRetired            0\n",
              "14       Rocket Lab   StatusActive           13\n",
              "15       Rocket Lab  StatusRetired            0\n",
              "16     Virgin Orbit   StatusActive            1\n",
              "17     Virgin Orbit  StatusRetired            0\n",
              "18              MHI   StatusActive           28\n",
              "19              MHI  StatusRetired            9\n",
              "20      Arianespace   StatusActive           93\n",
              "21      Arianespace  StatusRetired            3\n",
              "22           VKS RF   StatusActive           15\n",
              "23           VKS RF  StatusRetired           18\n",
              "24             ISRO   StatusActive           49\n",
              "25             ISRO  StatusRetired           18\n",
              "26              ILS   StatusActive           13\n",
              "27              ILS  StatusRetired            0\n",
              "28         Eurockot   StatusActive            0\n",
              "29         Eurockot  StatusRetired           13\n",
              "30           Sandia   StatusActive            1\n",
              "31           Sandia  StatusRetired            0\n",
              "32        Kosmotras   StatusActive            0\n",
              "33        Kosmotras  StatusRetired           22\n",
              "34              ESA   StatusActive            1\n",
              "35              ESA  StatusRetired            0\n",
              "36             NASA   StatusActive            0\n",
              "37             NASA  StatusRetired          149\n",
              "38           Boeing   StatusActive            1\n",
              "39           Boeing  StatusRetired            6\n",
              "40         Lockheed   StatusActive            0\n",
              "41         Lockheed  StatusRetired            8\n",
              "42              EER   StatusActive            0\n",
              "43              EER  StatusRetired            1\n",
              "44  Martin Marietta   StatusActive            0\n",
              "45  Martin Marietta  StatusRetired            9\n",
              "46        RVSN USSR   StatusActive            0\n",
              "47        RVSN USSR  StatusRetired            2\n",
              "48     US Air Force   StatusActive            0\n",
              "49     US Air Force  StatusRetired           26"
            ]
          },
          "metadata": {},
          "execution_count": 84
        }
      ]
    },
    {
      "cell_type": "code",
      "metadata": {
        "colab": {
          "base_uri": "https://localhost:8080/",
          "height": 486
        },
        "id": "DVFoT_qO59aP",
        "outputId": "44ae2efa-fecb-40ee-8782-93963b957dfa"
      },
      "source": [
        "sns.catplot(x=\"Company Name:\", y=\"No of times:\", hue=\"Status:\" ,data=status_returned,kind='bar',height=5,aspect=2)              ###We will use the catplot for better comparison.\n",
        "\n",
        "plt.xticks(rotation=90)\n"
      ],
      "execution_count": 87,
      "outputs": [
        {
          "output_type": "execute_result",
          "data": {
            "text/plain": [
              "(array([ 0,  1,  2,  3,  4,  5,  6,  7,  8,  9, 10, 11, 12, 13, 14, 15, 16,\n",
              "        17, 18, 19, 20, 21, 22, 23, 24]),\n",
              " <a list of 25 Text major ticklabel objects>)"
            ]
          },
          "metadata": {},
          "execution_count": 87
        },
        {
          "output_type": "display_data",
          "data": {
            "image/png": "[encoded data removed]",
            "text/plain": [
              "<Figure size 823.375x360 with 1 Axes>"
            ]
          },
          "metadata": {
            "needs_background": "light"
          }
        }
      ]
    },
    {
      "cell_type": "code",
      "metadata": {
        "colab": {
          "base_uri": "https://localhost:8080/",
          "height": 270
        },
        "id": "03y04POc_SDV",
        "outputId": "f74adca7-f15b-4ba2-d1ea-6b4c4ba77cbd"
      },
      "source": [
        "df.head()                                                                       "
      ],
      "execution_count": 88,
      "outputs": [
        {
          "output_type": "execute_result",
          "data": {
            "text/html": [
              "<div>\n",
              "<style scoped>\n",
              "    .dataframe tbody tr th:only-of-type {\n",
              "        vertical-align: middle;\n",
              "    }\n",
              "\n",
              "    .dataframe tbody tr th {\n",
              "        vertical-align: top;\n",
              "    }\n",
              "\n",
              "    .dataframe thead th {\n",
              "        text-align: right;\n",
              "    }\n",
              "</style>\n",
              "<table border=\"1\" class=\"dataframe\">\n",
              "  <thead>\n",
              "    <tr style=\"text-align: right;\">\n",
              "      <th></th>\n",
              "      <th>Sr. No</th>\n",
              "      <th>Unnamed: 0</th>\n",
              "      <th>Company Name</th>\n",
              "      <th>Location</th>\n",
              "      <th>Datum</th>\n",
              "      <th>Detail</th>\n",
              "      <th>Status Rocket</th>\n",
              "      <th>Rocket</th>\n",
              "      <th>Status Mission</th>\n",
              "    </tr>\n",
              "  </thead>\n",
              "  <tbody>\n",
              "    <tr>\n",
              "      <th>0</th>\n",
              "      <td>0</td>\n",
              "      <td>0</td>\n",
              "      <td>SpaceX</td>\n",
              "      <td>LC-39A, Kennedy Space Center, Florida, USA</td>\n",
              "      <td>Fri Aug 07, 2020 05:12 UTC</td>\n",
              "      <td>Falcon 9 Block 5 | Starlink V1 L9 &amp; BlackSky</td>\n",
              "      <td>StatusActive</td>\n",
              "      <td>50</td>\n",
              "      <td>Success</td>\n",
              "    </tr>\n",
              "    <tr>\n",
              "      <th>1</th>\n",
              "      <td>1</td>\n",
              "      <td>1</td>\n",
              "      <td>CASC</td>\n",
              "      <td>Site 9401 (SLS-2), Jiuquan Satellite Launch Ce...</td>\n",
              "      <td>Thu Aug 06, 2020 04:01 UTC</td>\n",
              "      <td>Long March 2D | Gaofen-9 04 &amp; Q-SAT</td>\n",
              "      <td>StatusActive</td>\n",
              "      <td>29.75</td>\n",
              "      <td>Success</td>\n",
              "    </tr>\n",
              "    <tr>\n",
              "      <th>3</th>\n",
              "      <td>3</td>\n",
              "      <td>3</td>\n",
              "      <td>Roscosmos</td>\n",
              "      <td>Site 200/39, Baikonur Cosmodrome, Kazakhstan</td>\n",
              "      <td>Thu Jul 30, 2020 21:25 UTC</td>\n",
              "      <td>Proton-M/Briz-M | Ekspress-80 &amp; Ekspress-103</td>\n",
              "      <td>StatusActive</td>\n",
              "      <td>65</td>\n",
              "      <td>Success</td>\n",
              "    </tr>\n",
              "    <tr>\n",
              "      <th>4</th>\n",
              "      <td>4</td>\n",
              "      <td>4</td>\n",
              "      <td>ULA</td>\n",
              "      <td>SLC-41, Cape Canaveral AFS, Florida, USA</td>\n",
              "      <td>Thu Jul 30, 2020 11:50 UTC</td>\n",
              "      <td>Atlas V 541 | Perseverance</td>\n",
              "      <td>StatusActive</td>\n",
              "      <td>145</td>\n",
              "      <td>Success</td>\n",
              "    </tr>\n",
              "    <tr>\n",
              "      <th>5</th>\n",
              "      <td>5</td>\n",
              "      <td>5</td>\n",
              "      <td>CASC</td>\n",
              "      <td>LC-9, Taiyuan Satellite Launch Center, China</td>\n",
              "      <td>Sat Jul 25, 2020 03:13 UTC</td>\n",
              "      <td>Long March 4B | Ziyuan-3 03, Apocalypse-10 &amp; N...</td>\n",
              "      <td>StatusActive</td>\n",
              "      <td>64.68</td>\n",
              "      <td>Success</td>\n",
              "    </tr>\n",
              "  </tbody>\n",
              "</table>\n",
              "</div>"
            ],
            "text/plain": [
              "   Sr. No  Unnamed: 0 Company Name  ... Status Rocket  Rocket Status Mission\n",
              "0       0           0       SpaceX  ...  StatusActive      50        Success\n",
              "1       1           1         CASC  ...  StatusActive   29.75        Success\n",
              "3       3           3    Roscosmos  ...  StatusActive      65        Success\n",
              "4       4           4          ULA  ...  StatusActive     145        Success\n",
              "5       5           5         CASC  ...  StatusActive   64.68        Success\n",
              "\n",
              "[5 rows x 9 columns]"
            ]
          },
          "metadata": {},
          "execution_count": 88
        }
      ]
    },
    {
      "cell_type": "code",
      "metadata": {
        "id": "EDW4Yl-p-6Uc"
      },
      "source": [
        "df[[\"Day\", \"Month\", \"Date\",\"Year\",\"Time\",\"Zone\"]] = df[\"Datum\"].str.split(\" \", expand = True)               ###Split the the datum part for better analysis using split function.\n"
      ],
      "execution_count": 89,
      "outputs": []
    },
    {
      "cell_type": "code",
      "metadata": {
        "colab": {
          "base_uri": "https://localhost:8080/",
          "height": 304
        },
        "id": "xBwD7jy7_i8n",
        "outputId": "9b50c549-cc99-4d21-dd4d-6f9933cee2f7"
      },
      "source": [
        "df.head()                                                                       ###See if changes have been done or not."
      ],
      "execution_count": 90,
      "outputs": [
        {
          "output_type": "execute_result",
          "data": {
            "text/html": [
              "<div>\n",
              "<style scoped>\n",
              "    .dataframe tbody tr th:only-of-type {\n",
              "        vertical-align: middle;\n",
              "    }\n",
              "\n",
              "    .dataframe tbody tr th {\n",
              "        vertical-align: top;\n",
              "    }\n",
              "\n",
              "    .dataframe thead th {\n",
              "        text-align: right;\n",
              "    }\n",
              "</style>\n",
              "<table border=\"1\" class=\"dataframe\">\n",
              "  <thead>\n",
              "    <tr style=\"text-align: right;\">\n",
              "      <th></th>\n",
              "      <th>Sr. No</th>\n",
              "      <th>Unnamed: 0</th>\n",
              "      <th>Company Name</th>\n",
              "      <th>Location</th>\n",
              "      <th>Datum</th>\n",
              "      <th>Detail</th>\n",
              "      <th>Status Rocket</th>\n",
              "      <th>Rocket</th>\n",
              "      <th>Status Mission</th>\n",
              "      <th>Day</th>\n",
              "      <th>Month</th>\n",
              "      <th>Date</th>\n",
              "      <th>Year</th>\n",
              "      <th>Time</th>\n",
              "      <th>Zone</th>\n",
              "    </tr>\n",
              "  </thead>\n",
              "  <tbody>\n",
              "    <tr>\n",
              "      <th>0</th>\n",
              "      <td>0</td>\n",
              "      <td>0</td>\n",
              "      <td>SpaceX</td>\n",
              "      <td>LC-39A, Kennedy Space Center, Florida, USA</td>\n",
              "      <td>Fri Aug 07, 2020 05:12 UTC</td>\n",
              "      <td>Falcon 9 Block 5 | Starlink V1 L9 &amp; BlackSky</td>\n",
              "      <td>StatusActive</td>\n",
              "      <td>50</td>\n",
              "      <td>Success</td>\n",
              "      <td>Fri</td>\n",
              "      <td>Aug</td>\n",
              "      <td>07,</td>\n",
              "      <td>2020</td>\n",
              "      <td>05:12</td>\n",
              "      <td>UTC</td>\n",
              "    </tr>\n",
              "    <tr>\n",
              "      <th>1</th>\n",
              "      <td>1</td>\n",
              "      <td>1</td>\n",
              "      <td>CASC</td>\n",
              "      <td>Site 9401 (SLS-2), Jiuquan Satellite Launch Ce...</td>\n",
              "      <td>Thu Aug 06, 2020 04:01 UTC</td>\n",
              "      <td>Long March 2D | Gaofen-9 04 &amp; Q-SAT</td>\n",
              "      <td>StatusActive</td>\n",
              "      <td>29.75</td>\n",
              "      <td>Success</td>\n",
              "      <td>Thu</td>\n",
              "      <td>Aug</td>\n",
              "      <td>06,</td>\n",
              "      <td>2020</td>\n",
              "      <td>04:01</td>\n",
              "      <td>UTC</td>\n",
              "    </tr>\n",
              "    <tr>\n",
              "      <th>3</th>\n",
              "      <td>3</td>\n",
              "      <td>3</td>\n",
              "      <td>Roscosmos</td>\n",
              "      <td>Site 200/39, Baikonur Cosmodrome, Kazakhstan</td>\n",
              "      <td>Thu Jul 30, 2020 21:25 UTC</td>\n",
              "      <td>Proton-M/Briz-M | Ekspress-80 &amp; Ekspress-103</td>\n",
              "      <td>StatusActive</td>\n",
              "      <td>65</td>\n",
              "      <td>Success</td>\n",
              "      <td>Thu</td>\n",
              "      <td>Jul</td>\n",
              "      <td>30,</td>\n",
              "      <td>2020</td>\n",
              "      <td>21:25</td>\n",
              "      <td>UTC</td>\n",
              "    </tr>\n",
              "    <tr>\n",
              "      <th>4</th>\n",
              "      <td>4</td>\n",
              "      <td>4</td>\n",
              "      <td>ULA</td>\n",
              "      <td>SLC-41, Cape Canaveral AFS, Florida, USA</td>\n",
              "      <td>Thu Jul 30, 2020 11:50 UTC</td>\n",
              "      <td>Atlas V 541 | Perseverance</td>\n",
              "      <td>StatusActive</td>\n",
              "      <td>145</td>\n",
              "      <td>Success</td>\n",
              "      <td>Thu</td>\n",
              "      <td>Jul</td>\n",
              "      <td>30,</td>\n",
              "      <td>2020</td>\n",
              "      <td>11:50</td>\n",
              "      <td>UTC</td>\n",
              "    </tr>\n",
              "    <tr>\n",
              "      <th>5</th>\n",
              "      <td>5</td>\n",
              "      <td>5</td>\n",
              "      <td>CASC</td>\n",
              "      <td>LC-9, Taiyuan Satellite Launch Center, China</td>\n",
              "      <td>Sat Jul 25, 2020 03:13 UTC</td>\n",
              "      <td>Long March 4B | Ziyuan-3 03, Apocalypse-10 &amp; N...</td>\n",
              "      <td>StatusActive</td>\n",
              "      <td>64.68</td>\n",
              "      <td>Success</td>\n",
              "      <td>Sat</td>\n",
              "      <td>Jul</td>\n",
              "      <td>25,</td>\n",
              "      <td>2020</td>\n",
              "      <td>03:13</td>\n",
              "      <td>UTC</td>\n",
              "    </tr>\n",
              "  </tbody>\n",
              "</table>\n",
              "</div>"
            ],
            "text/plain": [
              "   Sr. No  Unnamed: 0 Company Name  ...  Year   Time Zone\n",
              "0       0           0       SpaceX  ...  2020  05:12  UTC\n",
              "1       1           1         CASC  ...  2020  04:01  UTC\n",
              "3       3           3    Roscosmos  ...  2020  21:25  UTC\n",
              "4       4           4          ULA  ...  2020  11:50  UTC\n",
              "5       5           5         CASC  ...  2020  03:13  UTC\n",
              "\n",
              "[5 rows x 15 columns]"
            ]
          },
          "metadata": {},
          "execution_count": 90
        }
      ]
    },
    {
      "cell_type": "markdown",
      "metadata": {
        "id": "7M1_0zIfOBMt"
      },
      "source": [
        "Now the analysis of Successful no of launches in each year.\n",
        "Represent the data in descending order."
      ]
    },
    {
      "cell_type": "code",
      "metadata": {
        "id": "xENSthG2_lOt",
        "colab": {
          "base_uri": "https://localhost:8080/"
        },
        "outputId": "b5c6d7e4-47f5-446e-d5ba-21abff22488e"
      },
      "source": [
        "year_wise = pd.DataFrame({\"Year Wise Successful Launches\":df['Year'][df['Status Mission']=='Success']})\n",
        "year_launches = year_wise.value_counts()\n",
        "print(year_launches)"
      ],
      "execution_count": 91,
      "outputs": [
        {
          "output_type": "stream",
          "name": "stdout",
          "text": [
            "Year Wise Successful Launches\n",
            "2018                             87\n",
            "2019                             71\n",
            "2017                             62\n",
            "2016                             61\n",
            "2020                             48\n",
            "2014                             40\n",
            "2015                             37\n",
            "2013                             31\n",
            "2009                             30\n",
            "2008                             27\n",
            "2010                             27\n",
            "2011                             27\n",
            "2007                             26\n",
            "2006                             24\n",
            "2012                             24\n",
            "2003                             19\n",
            "1998                             18\n",
            "1997                             17\n",
            "2004                             16\n",
            "2002                             16\n",
            "2000                             16\n",
            "2005                             14\n",
            "1999                             14\n",
            "1996                             13\n",
            "1994                             13\n",
            "1992                             12\n",
            "1985                             10\n",
            "1993                             10\n",
            "1990                             10\n",
            "1968                              9\n",
            "1969                              8\n",
            "1995                              8\n",
            "2001                              8\n",
            "1991                              6\n",
            "1989                              6\n",
            "1984                              6\n",
            "1967                              6\n",
            "1988                              5\n",
            "1983                              5\n",
            "1982                              4\n",
            "1966                              3\n",
            "1987                              3\n",
            "1965                              2\n",
            "1972                              2\n",
            "1971                              2\n",
            "1981                              2\n",
            "1986                              2\n",
            "1970                              1\n",
            "1973                              1\n",
            "1964                              1\n",
            "dtype: int64\n"
          ]
        }
      ]
    },
    {
      "cell_type": "code",
      "metadata": {
        "colab": {
          "base_uri": "https://localhost:8080/",
          "height": 424
        },
        "id": "T-F6miSHXy-l",
        "outputId": "1ecf41bc-51fe-4e77-c313-feee69239cd0"
      },
      "source": [
        "plt.subplots(figsize=(20,5))                                                    ###Use the countplot method to represent the data\n",
        "sns.countplot(df['Year'][df['Status Mission']=='Success'], data=df)\n",
        "plt.title(\"Most no of successful launches year wise\", fontsize = 20)\n",
        "plt.xticks(rotation = 90,fontsize=10,ha=\"right\")\n",
        "plt.show()"
      ],
      "execution_count": 93,
      "outputs": [
        {
          "output_type": "stream",
          "name": "stderr",
          "text": [
            "/usr/local/lib/python3.7/dist-packages/seaborn/_decorators.py:43: FutureWarning: Pass the following variable as a keyword arg: x. From version 0.12, the only valid positional argument will be `data`, and passing other arguments without an explicit keyword will result in an error or misinterpretation.\n",
            "  FutureWarning\n"
          ]
        },
        {
          "output_type": "display_data",
          "data": {
            "image/png": "[encoded data removed]",
            "text/plain": [
              "<Figure size 1440x360 with 1 Axes>"
            ]
          },
          "metadata": {
            "needs_background": "light"
          }
        }
      ]
    },
    {
      "cell_type": "code",
      "metadata": {
        "colab": {
          "base_uri": "https://localhost:8080/",
          "height": 304
        },
        "id": "oOyQGjlu_yy1",
        "outputId": "88cfb3e0-d01e-4267-c471-81d32ce9cd45"
      },
      "source": [
        "latest_launches=df.sort_values(by=['Year','Month'], ascending=False)            ###Sort the dataset in descending order(year and month both) and store it in a temp variable.\n",
        "latest_launches.head()"
      ],
      "execution_count": 94,
      "outputs": [
        {
          "output_type": "execute_result",
          "data": {
            "text/html": [
              "<div>\n",
              "<style scoped>\n",
              "    .dataframe tbody tr th:only-of-type {\n",
              "        vertical-align: middle;\n",
              "    }\n",
              "\n",
              "    .dataframe tbody tr th {\n",
              "        vertical-align: top;\n",
              "    }\n",
              "\n",
              "    .dataframe thead th {\n",
              "        text-align: right;\n",
              "    }\n",
              "</style>\n",
              "<table border=\"1\" class=\"dataframe\">\n",
              "  <thead>\n",
              "    <tr style=\"text-align: right;\">\n",
              "      <th></th>\n",
              "      <th>Sr. No</th>\n",
              "      <th>Unnamed: 0</th>\n",
              "      <th>Company Name</th>\n",
              "      <th>Location</th>\n",
              "      <th>Datum</th>\n",
              "      <th>Detail</th>\n",
              "      <th>Status Rocket</th>\n",
              "      <th>Rocket</th>\n",
              "      <th>Status Mission</th>\n",
              "      <th>Day</th>\n",
              "      <th>Month</th>\n",
              "      <th>Date</th>\n",
              "      <th>Year</th>\n",
              "      <th>Time</th>\n",
              "      <th>Zone</th>\n",
              "    </tr>\n",
              "  </thead>\n",
              "  <tbody>\n",
              "    <tr>\n",
              "      <th>24</th>\n",
              "      <td>24</td>\n",
              "      <td>24</td>\n",
              "      <td>CASC</td>\n",
              "      <td>Site 9401 (SLS-2), Jiuquan Satellite Launch Ce...</td>\n",
              "      <td>Sun May 31, 2020 08:53 UTC</td>\n",
              "      <td>Long March 2D | Gaofen-9-02 &amp; HEAD-4</td>\n",
              "      <td>StatusActive</td>\n",
              "      <td>29.75</td>\n",
              "      <td>Success</td>\n",
              "      <td>Sun</td>\n",
              "      <td>May</td>\n",
              "      <td>31,</td>\n",
              "      <td>2020</td>\n",
              "      <td>08:53</td>\n",
              "      <td>UTC</td>\n",
              "    </tr>\n",
              "    <tr>\n",
              "      <th>25</th>\n",
              "      <td>25</td>\n",
              "      <td>25</td>\n",
              "      <td>SpaceX</td>\n",
              "      <td>LC-39A, Kennedy Space Center, Florida, USA</td>\n",
              "      <td>Sat May 30, 2020 19:22 UTC</td>\n",
              "      <td>Falcon 9 Block 5 | SpaceX Demo-2</td>\n",
              "      <td>StatusActive</td>\n",
              "      <td>50</td>\n",
              "      <td>Success</td>\n",
              "      <td>Sat</td>\n",
              "      <td>May</td>\n",
              "      <td>30,</td>\n",
              "      <td>2020</td>\n",
              "      <td>19:22</td>\n",
              "      <td>UTC</td>\n",
              "    </tr>\n",
              "    <tr>\n",
              "      <th>26</th>\n",
              "      <td>26</td>\n",
              "      <td>26</td>\n",
              "      <td>CASC</td>\n",
              "      <td>Xichang Satellite Launch Center, China</td>\n",
              "      <td>Fri May 29, 2020 20:13 UTC</td>\n",
              "      <td>Long March 11 | XJS-G and XJS-H</td>\n",
              "      <td>StatusActive</td>\n",
              "      <td>5.3</td>\n",
              "      <td>Success</td>\n",
              "      <td>Fri</td>\n",
              "      <td>May</td>\n",
              "      <td>29,</td>\n",
              "      <td>2020</td>\n",
              "      <td>20:13</td>\n",
              "      <td>UTC</td>\n",
              "    </tr>\n",
              "    <tr>\n",
              "      <th>27</th>\n",
              "      <td>27</td>\n",
              "      <td>27</td>\n",
              "      <td>Virgin Orbit</td>\n",
              "      <td>Cosmic Girl, Mojave Air and Space Port, Califo...</td>\n",
              "      <td>Mon May 25, 2020 19:50 UTC</td>\n",
              "      <td>LauncherOne | Demo Flight</td>\n",
              "      <td>StatusActive</td>\n",
              "      <td>12</td>\n",
              "      <td>Failure</td>\n",
              "      <td>Mon</td>\n",
              "      <td>May</td>\n",
              "      <td>25,</td>\n",
              "      <td>2020</td>\n",
              "      <td>19:50</td>\n",
              "      <td>UTC</td>\n",
              "    </tr>\n",
              "    <tr>\n",
              "      <th>29</th>\n",
              "      <td>29</td>\n",
              "      <td>29</td>\n",
              "      <td>MHI</td>\n",
              "      <td>LA-Y2, Tanegashima Space Center, Japan</td>\n",
              "      <td>Wed May 20, 2020 17:31 UTC</td>\n",
              "      <td>H-IIB | HTV-9</td>\n",
              "      <td>StatusRetired</td>\n",
              "      <td>112.5</td>\n",
              "      <td>Success</td>\n",
              "      <td>Wed</td>\n",
              "      <td>May</td>\n",
              "      <td>20,</td>\n",
              "      <td>2020</td>\n",
              "      <td>17:31</td>\n",
              "      <td>UTC</td>\n",
              "    </tr>\n",
              "  </tbody>\n",
              "</table>\n",
              "</div>"
            ],
            "text/plain": [
              "    Sr. No  Unnamed: 0  Company Name  ...  Year   Time Zone\n",
              "24      24          24          CASC  ...  2020  08:53  UTC\n",
              "25      25          25        SpaceX  ...  2020  19:22  UTC\n",
              "26      26          26          CASC  ...  2020  20:13  UTC\n",
              "27      27          27  Virgin Orbit  ...  2020  19:50  UTC\n",
              "29      29          29           MHI  ...  2020  17:31  UTC\n",
              "\n",
              "[5 rows x 15 columns]"
            ]
          },
          "metadata": {},
          "execution_count": 94
        }
      ]
    },
    {
      "cell_type": "markdown",
      "metadata": {
        "id": "ZC4p5DN6B65M"
      },
      "source": [
        "Analysis of failed,successful,prefailed and prelaunch failed launches in each year and represent it in form of catplot."
      ]
    },
    {
      "cell_type": "code",
      "metadata": {
        "colab": {
          "base_uri": "https://localhost:8080/",
          "height": 417
        },
        "id": "isp0GJA0B5p2",
        "outputId": "1e306556-165a-4a49-b1c6-bbd524dcbca0"
      },
      "source": [
        "status = df['Year'].unique()\n",
        "status_launched = pd.DataFrame([],columns=['Year:','Status Mission:','No of times:'])\n",
        "for id, element in enumerate(status):\n",
        "  temp_suc = df[(df['Year']== element) & (df['Status Mission']== 'Success')]\n",
        "  temp_fail = df[(df['Year']== element) & (df['Status Mission']== 'Failure')]\n",
        "  temp_partial = df[(df['Year']== element) & (df['Status Mission']== 'Partial Failure')]\n",
        "  temp_prelaunch = df[(df['Year']== element) & (df['Status Mission']== 'Prelaunch Failure')]\n",
        "\n",
        "  #append to status_launched\n",
        "  status_launched = status_launched.append({'Year:':element,\n",
        "                                            'Status Mission:':'Success','No of times:':temp_suc['Year'].count()},ignore_index= True)\n",
        "  status_launched = status_launched.append({'Year:' :element,'Status Mission:':'Failure','No of times:':temp_fail['Year'].count()},ignore_index= True)\n",
        "  status_launched = status_launched.append({'Year:' :element,'Status Mission:':'Partial Failure','No of times:':temp_partial['Year'].count()},ignore_index= True)\n",
        "  status_launched = status_launched.append({'Year:' :element,'Status Mission:':'Prelaunch Failure','No of times:':temp_prelaunch['Year'].count()},ignore_index= True)\n",
        "\n",
        "status_launched"
      ],
      "execution_count": 95,
      "outputs": [
        {
          "output_type": "execute_result",
          "data": {
            "text/html": [
              "<div>\n",
              "<style scoped>\n",
              "    .dataframe tbody tr th:only-of-type {\n",
              "        vertical-align: middle;\n",
              "    }\n",
              "\n",
              "    .dataframe tbody tr th {\n",
              "        vertical-align: top;\n",
              "    }\n",
              "\n",
              "    .dataframe thead th {\n",
              "        text-align: right;\n",
              "    }\n",
              "</style>\n",
              "<table border=\"1\" class=\"dataframe\">\n",
              "  <thead>\n",
              "    <tr style=\"text-align: right;\">\n",
              "      <th></th>\n",
              "      <th>Year:</th>\n",
              "      <th>Status Mission:</th>\n",
              "      <th>No of times:</th>\n",
              "    </tr>\n",
              "  </thead>\n",
              "  <tbody>\n",
              "    <tr>\n",
              "      <th>0</th>\n",
              "      <td>2020</td>\n",
              "      <td>Success</td>\n",
              "      <td>48</td>\n",
              "    </tr>\n",
              "    <tr>\n",
              "      <th>1</th>\n",
              "      <td>2020</td>\n",
              "      <td>Failure</td>\n",
              "      <td>4</td>\n",
              "    </tr>\n",
              "    <tr>\n",
              "      <th>2</th>\n",
              "      <td>2020</td>\n",
              "      <td>Partial Failure</td>\n",
              "      <td>0</td>\n",
              "    </tr>\n",
              "    <tr>\n",
              "      <th>3</th>\n",
              "      <td>2020</td>\n",
              "      <td>Prelaunch Failure</td>\n",
              "      <td>0</td>\n",
              "    </tr>\n",
              "    <tr>\n",
              "      <th>4</th>\n",
              "      <td>2019</td>\n",
              "      <td>Success</td>\n",
              "      <td>71</td>\n",
              "    </tr>\n",
              "    <tr>\n",
              "      <th>...</th>\n",
              "      <td>...</td>\n",
              "      <td>...</td>\n",
              "      <td>...</td>\n",
              "    </tr>\n",
              "    <tr>\n",
              "      <th>195</th>\n",
              "      <td>1965</td>\n",
              "      <td>Prelaunch Failure</td>\n",
              "      <td>0</td>\n",
              "    </tr>\n",
              "    <tr>\n",
              "      <th>196</th>\n",
              "      <td>1964</td>\n",
              "      <td>Success</td>\n",
              "      <td>1</td>\n",
              "    </tr>\n",
              "    <tr>\n",
              "      <th>197</th>\n",
              "      <td>1964</td>\n",
              "      <td>Failure</td>\n",
              "      <td>1</td>\n",
              "    </tr>\n",
              "    <tr>\n",
              "      <th>198</th>\n",
              "      <td>1964</td>\n",
              "      <td>Partial Failure</td>\n",
              "      <td>0</td>\n",
              "    </tr>\n",
              "    <tr>\n",
              "      <th>199</th>\n",
              "      <td>1964</td>\n",
              "      <td>Prelaunch Failure</td>\n",
              "      <td>0</td>\n",
              "    </tr>\n",
              "  </tbody>\n",
              "</table>\n",
              "<p>200 rows × 3 columns</p>\n",
              "</div>"
            ],
            "text/plain": [
              "    Year:    Status Mission: No of times:\n",
              "0    2020            Success           48\n",
              "1    2020            Failure            4\n",
              "2    2020    Partial Failure            0\n",
              "3    2020  Prelaunch Failure            0\n",
              "4    2019            Success           71\n",
              "..    ...                ...          ...\n",
              "195  1965  Prelaunch Failure            0\n",
              "196  1964            Success            1\n",
              "197  1964            Failure            1\n",
              "198  1964    Partial Failure            0\n",
              "199  1964  Prelaunch Failure            0\n",
              "\n",
              "[200 rows x 3 columns]"
            ]
          },
          "metadata": {},
          "execution_count": 95
        }
      ]
    },
    {
      "cell_type": "code",
      "metadata": {
        "colab": {
          "base_uri": "https://localhost:8080/",
          "height": 317
        },
        "id": "lYr2cHbIBZtL",
        "outputId": "98101c14-3046-44e2-ba77-8552d38b0042"
      },
      "source": [
        "sns.catplot(x=\"Year:\", y=\"No of times:\", hue=\"Status Mission:\" ,data=status_launched,kind='bar',height=5,aspect=5)\n",
        "\n",
        "plt.xticks(rotation=90,fontsize=10)\n",
        "plt.title(\"Status Mission of Rockets Year Wise:\")\n"
      ],
      "execution_count": 98,
      "outputs": [
        {
          "output_type": "execute_result",
          "data": {
            "text/plain": [
              "Text(0.5, 1.0, 'Status Mission of Rockets Year Wise:')"
            ]
          },
          "metadata": {},
          "execution_count": 98
        },
        {
          "output_type": "display_data",
          "data": {
            "image/png": "[encoded data removed]",
            "text/plain": [
              "<Figure size 1921.75x360 with 1 Axes>"
            ]
          },
          "metadata": {
            "needs_background": "light"
          }
        }
      ]
    },
    {
      "cell_type": "code",
      "metadata": {
        "id": "U39kVQrKSeOS"
      },
      "source": [
        ""
      ],
      "execution_count": null,
      "outputs": []
    }
  ]
}